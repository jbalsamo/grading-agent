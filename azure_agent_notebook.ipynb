{
 "cells": [
  {
   "cell_type": "markdown",
   "metadata": {},
   "source": [
    "# Azure AI Agent Notebook\n",
    "\n",
    "This notebook provides a foundation for building AI agents using Azure OpenAI and LangChain.\n"
   ]
  },
  {
   "cell_type": "markdown",
   "metadata": {},
   "source": [
    "## Setup and Configuration\n",
    "\n",
    "First, let's import the necessary libraries and load our environment variables."
   ]
  },
  {
   "cell_type": "code",
   "execution_count": null,
   "metadata": {},
   "outputs": [],
   "source": [
    "# Core imports\n",
    "import os\n",
    "import asyncio\n",
    "from dotenv import load_dotenv\n",
    "from typing import List, Dict, Any\n",
    "\n",
    "# LangChain imports\n",
    "from langchain_openai import AzureChatOpenAI, AzureOpenAIEmbeddings\n",
    "from langchain_core.messages import HumanMessage, SystemMessage, AIMessage\n",
    "from langchain_core.prompts import ChatPromptTemplate, MessagesPlaceholder\n",
    "from langchain_core.tools import tool\n",
    "from langchain.agents import create_openai_functions_agent, AgentExecutor\n",
    "from langchain_community.tools import DuckDuckGoSearchRun\n",
    "\n",
    "# Data manipulation\n",
    "import pandas as pd\n",
    "import numpy as np\n",
    "\n",
    "# Visualization\n",
    "import matplotlib.pyplot as plt\n",
    "import seaborn as sns\n",
    "\n",
    "# Jupyter widgets\n",
    "import ipywidgets as widgets\n",
    "from IPython.display import display, Markdown, HTML\n",
    "\n",
    "# Load environment variables\n",
    "load_dotenv()\n",
    "\n",
    "print(\"✅ All libraries imported successfully!\")"
   ]
  },
  {
   "cell_type": "markdown",
   "metadata": {},
   "source": [
    "## Azure OpenAI Configuration\n",
    "\n",
    "Configure your Azure OpenAI connection using environment variables."
   ]
  },
  {
   "cell_type": "code",
   "execution_count": null,
   "metadata": {},
   "outputs": [],
   "source": [
    "# Azure OpenAI Configuration\n",
    "azure_endpoint = os.getenv(\"AZURE_OPENAI_ENDPOINT\")\n",
    "azure_api_key = os.getenv(\"AZURE_OPENAI_API_KEY\")\n",
    "azure_api_version = os.getenv(\"AZURE_OPENAI_API_VERSION\")\n",
    "chat_deployment = os.getenv(\"AZURE_OPENAI_CHAT_DEPLOYMENT\")\n",
    "embedding_deployment = os.getenv(\"AZURE_OPENAI_EMBEDDING_DEPLOYMENT\")\n",
    "\n",
    "# Verify configuration\n",
    "if not all([azure_endpoint, azure_api_key, chat_deployment]):\n",
    "    print(\"❌ Missing required Azure OpenAI configuration. Please check your .env file.\")\n",
    "    print(\"Required variables: AZURE_OPENAI_ENDPOINT, AZURE_OPENAI_API_KEY, AZURE_OPENAI_CHAT_DEPLOYMENT\")\n",
    "else:\n",
    "    print(\"✅ Azure OpenAI configuration loaded successfully!\")\n",
    "    print(f\"Endpoint: {azure_endpoint}\")\n",
    "    print(f\"Chat Deployment: {chat_deployment}\")\n",
    "    print(f\"API Version: {azure_api_version}\")"
   ]
  },
  {
   "cell_type": "markdown",
   "metadata": {},
   "source": [
    "## Initialize Azure OpenAI Models\n",
    "\n",
    "Create instances of the chat and embedding models."
   ]
  },
  {
   "cell_type": "code",
   "execution_count": null,
   "metadata": {},
   "outputs": [],
   "source": [
    "# Initialize Azure Chat OpenAI\n",
    "llm = AzureChatOpenAI(\n",
    "    azure_endpoint=azure_endpoint,\n",
    "    api_key=azure_api_key,\n",
    "    api_version=azure_api_version,\n",
    "    deployment_name=chat_deployment,\n",
    "    temperature=0.7,\n",
    "    max_tokens=1000\n",
    ")\n",
    "\n",
    "# Initialize embeddings (if deployment is configured)\n",
    "embeddings = None\n",
    "if embedding_deployment:\n",
    "    embeddings = AzureOpenAIEmbeddings(\n",
    "        azure_endpoint=azure_endpoint,\n",
    "        api_key=azure_api_key,\n",
    "        api_version=azure_api_version,\n",
    "        deployment=embedding_deployment\n",
    "    )\n",
    "    print(\"✅ Embeddings model initialized\")\n",
    "\n",
    "print(\"✅ Azure OpenAI models initialized successfully!\")"
   ]
  },
  {
   "cell_type": "markdown",
   "metadata": {},
   "source": [
    "## Test Basic Chat Functionality\n",
    "\n",
    "Let's test our Azure OpenAI connection with a simple chat."
   ]
  },
  {
   "cell_type": "code",
   "execution_count": null,
   "metadata": {},
   "outputs": [],
   "source": [
    "# Test basic chat\n",
    "try:\n",
    "    response = llm.invoke([HumanMessage(content=\"Hello! Can you confirm that our Azure OpenAI connection is working?\")])\n",
    "    print(\"✅ Connection successful!\")\n",
    "    print(f\"Response: {response.content}\")\n",
    "except Exception as e:\n",
    "    print(f\"❌ Connection failed: {str(e)}\")\n",
    "    print(\"Please check your Azure OpenAI configuration in the .env file.\")"
   ]
  },
  {
   "cell_type": "markdown",
   "metadata": {},
   "source": [
    "## Create Custom Tools\n",
    "\n",
    "Define custom tools that your agent can use."
   ]
  },
  {
   "cell_type": "code",
   "execution_count": null,
   "metadata": {},
   "outputs": [],
   "source": [
    "@tool\n",
    "def calculate(expression: str) -> str:\n",
    "    \"\"\"Calculate mathematical expressions safely.\"\"\"\n",
    "    try:\n",
    "        # Simple calculator - only allow basic operations\n",
    "        allowed_chars = set('0123456789+-*/.() ')\n",
    "        if not all(c in allowed_chars for c in expression):\n",
    "            return \"Error: Invalid characters in expression\"\n",
    "        \n",
    "        result = eval(expression)\n",
    "        return f\"Result: {result}\"\n",
    "    except Exception as e:\n",
    "        return f\"Error: {str(e)}\"\n",
    "\n",
    "@tool\n",
    "def get_current_time() -> str:\n",
    "    \"\"\"Get the current date and time.\"\"\"\n",
    "    from datetime import datetime\n",
    "    return f\"Current time: {datetime.now().strftime('%Y-%m-%d %H:%M:%S')}\"\n",
    "\n",
    "# Initialize search tool\n",
    "search = DuckDuckGoSearchRun()\n",
    "\n",
    "# List of available tools\n",
    "tools = [calculate, get_current_time, search]\n",
    "\n",
    "print(\"✅ Custom tools created successfully!\")\n",
    "print(f\"Available tools: {[tool.name for tool in tools]}\")"
   ]
  },
  {
   "cell_type": "markdown",
   "metadata": {},
   "source": [
    "## Create an AI Agent\n",
    "\n",
    "Now let's create an AI agent using LangChain that can use our tools."
   ]
  },
  {
   "cell_type": "code",
   "execution_count": null,
   "metadata": {},
   "outputs": [],
   "source": [
    "# Create a prompt template for the agent\n",
    "prompt = ChatPromptTemplate.from_messages([\n",
    "    (\"system\", \"\"\"You are a helpful AI assistant with access to various tools. \n",
    "    Use the tools when appropriate to help answer questions and solve problems.\n",
    "    Be concise but thorough in your responses.\"\"\"),\n",
    "    MessagesPlaceholder(variable_name=\"chat_history\"),\n",
    "    (\"human\", \"{input}\"),\n",
    "    MessagesPlaceholder(variable_name=\"agent_scratchpad\")\n",
    "])\n",
    "\n",
    "# Create the agent\n",
    "agent = create_openai_functions_agent(llm, tools, prompt)\n",
    "\n",
    "# Create an agent executor\n",
    "agent_executor = AgentExecutor(\n",
    "    agent=agent, \n",
    "    tools=tools, \n",
    "    verbose=True,\n",
    "    return_intermediate_steps=True\n",
    ")\n",
    "\n",
    "print(\"✅ AI Agent created successfully!\")"
   ]
  },
  {
   "cell_type": "markdown",
   "metadata": {},
   "source": [
    "## Interactive Chat Interface\n",
    "\n",
    "Create an interactive widget for chatting with your agent."
   ]
  },
  {
   "cell_type": "code",
   "execution_count": null,
   "metadata": {},
   "outputs": [],
   "source": [
    "# Create interactive widgets\n",
    "chat_input = widgets.Text(\n",
    "    placeholder='Type your message here...',\n",
    "    description='Message:',\n",
    "    style={'description_width': 'initial'},\n",
    "    layout=widgets.Layout(width='70%')\n",
    ")\n",
    "\n",
    "send_button = widgets.Button(\n",
    "    description='Send',\n",
    "    button_style='primary',\n",
    "    layout=widgets.Layout(width='15%')\n",
    ")\n",
    "\n",
    "clear_button = widgets.Button(\n",
    "    description='Clear',\n",
    "    button_style='warning',\n",
    "    layout=widgets.Layout(width='15%')\n",
    ")\n",
    "\n",
    "output_area = widgets.Output()\n",
    "\n",
    "# Chat history\n",
    "chat_history = []\n",
    "\n",
    "def send_message(b):\n",
    "    with output_area:\n",
    "        if chat_input.value.strip():\n",
    "            user_message = chat_input.value\n",
    "            print(f\"🧑 User: {user_message}\")\n",
    "            \n",
    "            try:\n",
    "                # Get agent response\n",
    "                response = agent_executor.invoke({\n",
    "                    \"input\": user_message,\n",
    "                    \"chat_history\": chat_history\n",
    "                })\n",
    "                \n",
    "                print(f\"🤖 Agent: {response['output']}\")\n",
    "                print(\"-\" * 50)\n",
    "                \n",
    "                # Update chat history\n",
    "                chat_history.extend([\n",
    "                    HumanMessage(content=user_message),\n",
    "                    AIMessage(content=response['output'])\n",
    "                ])\n",
    "                \n",
    "            except Exception as e:\n",
    "                print(f\"❌ Error: {str(e)}\")\n",
    "            \n",
    "            chat_input.value = ''\n",
    "\n",
    "def clear_chat(b):\n",
    "    global chat_history\n",
    "    chat_history = []\n",
    "    output_area.clear_output()\n",
    "    with output_area:\n",
    "        print(\"Chat cleared! 🧹\")\n",
    "\n",
    "def on_enter(change):\n",
    "    if change['new'] and change['new'][-1] == '\\n':\n",
    "        send_message(None)\n",
    "\n",
    "# Bind events\n",
    "send_button.on_click(send_message)\n",
    "clear_button.on_click(clear_chat)\n",
    "chat_input.observe(on_enter, names='value')\n",
    "\n",
    "# Display the interface\n",
    "input_box = widgets.HBox([chat_input, send_button, clear_button])\n",
    "chat_interface = widgets.VBox([input_box, output_area])\n",
    "\n",
    "display(Markdown(\"### 🤖 Chat with your AI Agent\"))\n",
    "display(chat_interface)\n",
    "\n",
    "with output_area:\n",
    "    print(\"Welcome! Your AI agent is ready. Try asking questions or requesting calculations!\")\n",
    "    print(\"Example: 'What's 25 * 4?' or 'Search for the latest news about AI'\")\n",
    "    print(\"-\" * 50)"
   ]
  },
  {
   "cell_type": "markdown",
   "metadata": {},
   "source": [
    "## Your Workspace\n",
    "\n",
    "Use the cells below for your own experiments and development."
   ]
  },
  {
   "cell_type": "code",
   "execution_count": null,
   "metadata": {},
   "outputs": [],
   "source": [
    "# Your code here\n"
   ]
  },
  {
   "cell_type": "code",
   "execution_count": null,
   "metadata": {},
   "outputs": [],
   "source": [
    "# More space for experimentation\n"
   ]
  }
 ],
 "metadata": {
  "kernelspec": {
   "display_name": ".venv",
   "language": "python",
   "name": "python3"
  },
  "language_info": {
   "codemirror_mode": {
    "name": "ipython",
    "version": 3
   },
   "file_extension": ".py",
   "mimetype": "text/x-python",
   "name": "python",
   "nbconvert_exporter": "python",
   "pygments_lexer": "ipython3",
   "version": "3.13.5"
  }
 },
 "nbformat": 4,
 "nbformat_minor": 4
}
